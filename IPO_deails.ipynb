{
 "cells": [
  {
   "cell_type": "markdown",
   "id": "53ca8087-66be-411a-bb90-4a378c5e7800",
   "metadata": {},
   "source": [
    "## <span style = \"color:Purple\"> <span style = \"font-family: Times New Roman\"> * IPO Breakdown Tool * </span>\n",
    "\n",
    "#### <span style = \"color:brown\"> <span style = \"font-family: Times New Roman\"> Gives details of an IPO to help people undertand the company better and avoid reading through long DRHP documents.</span>\n",
    "***\n"
   ]
  },
  {
   "cell_type": "code",
   "execution_count": 1,
   "id": "22fcb153-0afa-4baa-966e-bdc521209dab",
   "metadata": {},
   "outputs": [],
   "source": [
    "# imports\n",
    "import gradio as gr\n",
    "import os\n",
    "from dotenv import load_dotenv\n",
    "from openai import OpenAI\n",
    "\n",
    "\n",
    "#calling API\n",
    "load_dotenv()\n",
    "openai_api_key = os.getenv('OPENAI_API_KEY')\n",
    "\n",
    "#calling the OpenAI model\n",
    "openai = OpenAI()\n",
    "MODEL = 'gpt-4o-mini'"
   ]
  },
  {
   "cell_type": "code",
   "execution_count": 2,
   "id": "8323a214-21ff-44d7-8484-679651b05a41",
   "metadata": {},
   "outputs": [],
   "source": [
    "system_prompt = \"\"\"You are a expert IPO analyser to understands and gives the keypoints for a given company. \"\"\"\n",
    "system_prompt +=\"\"\" if you don't know the company say that you dont known about it\"\"\"\n",
    "system_prompt +=\"\"\"Respond in the below format to make it easier to understand and in Markdowns.\n",
    "\t• Go to DRHP document of the company IPO using sebi.gov.in webpage and Read 'about our company' section and summarize the section in 50-100 words to understand what type of company it is, rival companies, key products, growth plans, risk, sales and any major relevant details to highlight.\n",
    "    • Summary of offer document section\n",
    "\t\t○ Look for the P/L and analysis the trend with years, add a table with values and reasoning.\n",
    "        ○ Look for average ticket size per policy , the share distribution details, add the table highlighting the numbers.\n",
    "    • Go to chitorgarh website open the required ipo and check the ipo details. Add the table mentioning ipo data, listing date, face value, etc. and the IPO timelines, lot size. \n",
    "        ○ Add table for the timelines and from subcription section add subcription table if available. \n",
    "    • check if the stock price section is present, if not there then search and add grey market permium of the company if the IPO is yet to get listed. \n",
    "    • Go to trendlyne.com and see the reports section. Add details scraping the author name eg. Axis Direct , type eg. Bug/sell/avoid  to understand who gives recommandation to subscribe or avoid the IPO.\n",
    " \"\"\"  "
   ]
  },
  {
   "cell_type": "code",
   "execution_count": 3,
   "id": "8c68a90d-9ac5-40dc-af9d-6becaa500c85",
   "metadata": {},
   "outputs": [],
   "source": [
    "user_prompt = \"\"\" Add the company name for which IPO is needed and give details as shown in the above format giving respective details\"\"\""
   ]
  },
  {
   "cell_type": "code",
   "execution_count": 4,
   "id": "5666833e-a3a5-4ca4-90e0-c98a1fc7a9bf",
   "metadata": {},
   "outputs": [],
   "source": [
    "def chat(message, history):\n",
    "    messages = [{\"role\": \"system\", \"content\": system_prompt}] + history + [{\"role\": \"user\", \"content\": message}]\n",
    "\n",
    "    stream = openai.chat.completions.create(model=MODEL, messages=messages, stream=True)\n",
    "\n",
    "    response = \"\"\n",
    "    for chunk in stream:\n",
    "        response += chunk.choices[0].delta.content or ''\n",
    "        yield response"
   ]
  },
  {
   "cell_type": "code",
   "execution_count": 5,
   "id": "db181d44-a69a-473a-8577-feb4c616c4e6",
   "metadata": {},
   "outputs": [],
   "source": [
    "force_dark_mode = \"\"\"\n",
    "function refresh() {\n",
    "    const url = new URL(window.location);\n",
    "    if (url.searchParams.get('__theme') !== 'dark') {\n",
    "        url.searchParams.set('__theme', 'dark');\n",
    "        window.location.href = url.href;\n",
    "    }\n",
    "}\n",
    "\"\"\" # To add dark theme\n",
    "custom_css = \"\"\"\n",
    "    \n",
    "    .gradio-container h1 {\n",
    "        text-align: center;\n",
    "        font-size: 60px;\n",
    "        font-weight: 700;\n",
    "        font-style: italic;\n",
    "        font-family: 'Times New Roman', cursive;  /* Elegant script font */\n",
    "        text-transform: none;\n",
    "        background: #ffffff; /* White */\n",
    "        -webkit-background-clip: text;\n",
    "        -webkit-text-fill-color: transparent;\n",
    "        letter-spacing: 3px;        \n",
    "        text-shadow: 2px 2px 5px rgba(255, 105, 180, 0.4); /* Subtle pink glow */\n",
    "    }\n",
    "    \n",
    "\n",
    "\"\"\""
   ]
  },
  {
   "cell_type": "code",
   "execution_count": 6,
   "id": "3dd11341-2765-4209-8611-a39d4281d08f",
   "metadata": {},
   "outputs": [
    {
     "name": "stdout",
     "output_type": "stream",
     "text": [
      "* Running on local URL:  http://127.0.0.1:7863\n",
      "\n",
      "To create a public link, set `share=True` in `launch()`.\n"
     ]
    },
    {
     "data": {
      "text/html": [
       "<div><iframe src=\"http://127.0.0.1:7863/\" width=\"100%\" height=\"500\" allow=\"autoplay; camera; microphone; clipboard-read; clipboard-write;\" frameborder=\"0\" allowfullscreen></iframe></div>"
      ],
      "text/plain": [
       "<IPython.core.display.HTML object>"
      ]
     },
     "metadata": {},
     "output_type": "display_data"
    },
    {
     "data": {
      "text/plain": []
     },
     "execution_count": 6,
     "metadata": {},
     "output_type": "execute_result"
    }
   ],
   "source": [
    "with gr.Blocks(css=custom_css, js=force_dark_mode) as demo:\n",
    "    \n",
    "    gr.Markdown(\"# Enter the Company name for IPO Detail Analysis\")\n",
    "    gr.ChatInterface(chat, type=\"messages\")\n",
    "demo.launch(pwa=True)"
   ]
  },
  {
   "cell_type": "code",
   "execution_count": null,
   "id": "f9e1c450-c0a4-4768-8699-b602f7c5abd7",
   "metadata": {},
   "outputs": [],
   "source": []
  }
 ],
 "metadata": {
  "kernelspec": {
   "display_name": "Python 3 (ipykernel)",
   "language": "python",
   "name": "python3"
  },
  "language_info": {
   "codemirror_mode": {
    "name": "ipython",
    "version": 3
   },
   "file_extension": ".py",
   "mimetype": "text/x-python",
   "name": "python",
   "nbconvert_exporter": "python",
   "pygments_lexer": "ipython3",
   "version": "3.11.11"
  }
 },
 "nbformat": 4,
 "nbformat_minor": 5
}
